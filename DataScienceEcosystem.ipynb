{
 "cells": [
  {
   "cell_type": "markdown",
   "id": "a5a1e299-b05b-407b-b9ef-8cb20b2d1d68",
   "metadata": {
    "tags": []
   },
   "source": [
    "# Data Science Tools and Ecosystem"
   ]
  },
  {
   "cell_type": "markdown",
   "id": "d2e853b9-612d-49ec-b674-3b4d330af9ba",
   "metadata": {
    "tags": []
   },
   "source": [
    "In this notebook, Data Science Tools and Ecosystem are summarized."
   ]
  },
  {
   "cell_type": "markdown",
   "id": "2016dd14-714f-45ca-8976-03c7f11f29e2",
   "metadata": {},
   "source": [
    "**Objectives:**\n",
    "- List popular languages for Data Science\n",
    "- List commonly libraries in Python, R and SCALA used by Data Scientists\n",
    "- List three open source tools used in Data Sciene\n",
    "- Simple arithmetic expressions typed in Python\n"
   ]
  },
  {
   "cell_type": "markdown",
   "id": "6ba0a8a0-e646-4a31-9730-77060197c954",
   "metadata": {},
   "source": [
    "Some of the popular languages that Data Scientists use are:\n",
    "1. Python\n",
    "2. R\n",
    "3. SQL\n",
    "4. Scala\n",
    "5. Java\n",
    "6. C++\n",
    "7. Javascript\n",
    "8. Julia"
   ]
  },
  {
   "cell_type": "markdown",
   "id": "c37a35d7-47fa-4950-9bbf-d61dc930885a",
   "metadata": {},
   "source": [
    "Some of the commonly used libraries used by Data Scientists include:\n",
    "* Libraries for Python\n",
    "1. Pandas\n",
    "2. Numpy\n",
    "3. Matplotlib\n",
    "4. Sckit-Learn\n",
    "5. Keras\n",
    "6. TensorFlow\n",
    "7. PyTorch\n",
    "* Libraries for R\n",
    "1. ggplot\n",
    "* Libraries for SCALA\n",
    "1. VEGAS\n",
    "2. BigDL\n",
    "\n"
   ]
  },
  {
   "cell_type": "markdown",
   "id": "2fab0cd4-bc61-42e1-947d-490dc3ab3453",
   "metadata": {},
   "source": [
    "There are many open source tools used in data sciene. The most used are shown in the following table:\n",
    "|Data Science Tools|\n",
    "|------------------|\n",
    "|Node-RED|\n",
    "|SELDOM|\n",
    "|GitHub|"
   ]
  },
  {
   "cell_type": "markdown",
   "id": "8debb125-908a-4e58-a3c5-11cc3761856f",
   "metadata": {},
   "source": [
    "### Below are a few examples of evaluating arithmetic expressions in Python"
   ]
  },
  {
   "cell_type": "code",
   "execution_count": 22,
   "id": "3497b6f5-399f-4b7c-9757-758e055ec3ff",
   "metadata": {
    "tags": []
   },
   "outputs": [
    {
     "data": {
      "text/plain": [
       "17"
      ]
     },
     "execution_count": 22,
     "metadata": {},
     "output_type": "execute_result"
    }
   ],
   "source": [
    "(3*4)+5 #This is a simple arithmetic expression to multiply then add integers"
   ]
  },
  {
   "cell_type": "code",
   "execution_count": 24,
   "id": "aee68768-a4fd-4ee2-84ca-a04480811306",
   "metadata": {
    "tags": []
   },
   "outputs": [
    {
     "data": {
      "text/plain": [
       "3.3333333333333335"
      ]
     },
     "execution_count": 24,
     "metadata": {},
     "output_type": "execute_result"
    }
   ],
   "source": [
    "200/60 #This line code will convert 200 minutes to hours by diving by 60"
   ]
  },
  {
   "cell_type": "markdown",
   "id": "35da0126-7710-4ffc-95bc-32a50135c5d7",
   "metadata": {},
   "source": [
    "## Author\n",
    "Diego Esteban Alvarez"
   ]
  }
 ],
 "metadata": {
  "kernelspec": {
   "display_name": "Python 3 (ipykernel)",
   "language": "python",
   "name": "python3"
  },
  "language_info": {
   "codemirror_mode": {
    "name": "ipython",
    "version": 3
   },
   "file_extension": ".py",
   "mimetype": "text/x-python",
   "name": "python",
   "nbconvert_exporter": "python",
   "pygments_lexer": "ipython3",
   "version": "3.11.5"
  }
 },
 "nbformat": 4,
 "nbformat_minor": 5
}
